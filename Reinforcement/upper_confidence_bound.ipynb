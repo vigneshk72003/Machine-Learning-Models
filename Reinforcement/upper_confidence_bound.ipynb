{
  "nbformat": 4,
  "nbformat_minor": 0,
  "metadata": {
    "colab": {
      "provenance": []
    },
    "kernelspec": {
      "name": "python3",
      "display_name": "Python 3"
    }
  },
  "cells": [
    {
      "cell_type": "markdown",
      "metadata": {
        "id": "QJdrJJQUv3-k"
      },
      "source": [
        "# Upper Confidence Bound (UCB)"
      ]
    },
    {
      "cell_type": "markdown",
      "metadata": {
        "id": "2XCjepjJwEv-"
      },
      "source": [
        "## Importing the libraries"
      ]
    },
    {
      "cell_type": "code",
      "source": [
        "import pandas as pd\n",
        "import matplotlib.pyplot as plt\n",
        "import numpy as np"
      ],
      "metadata": {
        "id": "ORafS2V6S8Zi"
      },
      "execution_count": null,
      "outputs": []
    },
    {
      "cell_type": "markdown",
      "metadata": {
        "id": "npqlXjaNwYTv"
      },
      "source": [
        "\n",
        "## Importing the dataset"
      ]
    },
    {
      "cell_type": "code",
      "source": [
        "dataset=pd.read_csv(\"Ads_CTR_Optimisation.csv\")"
      ],
      "metadata": {
        "id": "i4F_vL8ETCeb"
      },
      "execution_count": null,
      "outputs": []
    },
    {
      "cell_type": "markdown",
      "metadata": {
        "id": "PaSbots_wfoB"
      },
      "source": [
        "## Implementing UCB"
      ]
    },
    {
      "cell_type": "code",
      "source": [
        "import math\n",
        "N=10000\n",
        "d=10\n",
        "ads_selected=[]\n",
        "number_of_ads_selected=[0]*d\n",
        "sum_of_each_ads=[0]*d\n",
        "total_reward_ofads=0\n",
        "#print(number_of_ads_selected,sum_of_each_ads)\n",
        "for n in range(0,N):\n",
        "    ad=0\n",
        "    max_upper_bound=0\n",
        "    for i in range(0,d):#based on given algorithm in folder it is coded\n",
        "      if(number_of_ads_selected[i]>0):#if denominator is 0 it is inifinity see in else\n",
        "        avg_reward=(sum_of_each_ads[i]/number_of_ads_selected[i])\n",
        "#for this we need math library\n",
        "#for log if we take i=0 it will give infinity which will be error, to avoid that taking from 1\n",
        "        delta_i=math.sqrt(3/2 * math.log(n+1)/number_of_ads_selected[i])\n",
        "        upper_bound=avg_reward+delta_i\n",
        "      else:\n",
        "        upper_bound=1e400 #this value almost equal to infinity\n",
        "\n",
        "      if (upper_bound > max_upper_bound):\n",
        "        max_upper_bound=upper_bound\n",
        "        ad=i #this says that if the present ads index is having upper_bound > max_upper_bound, for the present\n",
        "#round,it says that this ads index is best ads among all in this round\n",
        "\n",
        "#based in this ad we  will intialize the parameters again outside the loop\n",
        "\n",
        "  #should be given outerloop once one round is finished,at one round only one ads will be accepted\n",
        "    ads_selected.append(ad)    #selected ad is chosen for the current round *****important line***\n",
        "    number_of_ads_selected[ad]=number_of_ads_selected[ad]+1   #In the list of number_of_ads_selected, the index given by ad\n",
        "    #which is selected by upper_bound is made(incremented) has 1 in the specified index.eg: if ads2(index) is selected by ad, making ads2 value in the list has 1\n",
        "    #NOTE: it is incrementing the value in specified index, not incrementing the position\n",
        "    reward=dataset.values[n,ad]#n=row ,ad=specific column, checks what value is given in this coloumn has reward=0 or 1, that is stored\n",
        "    sum_of_each_ads[ad]=sum_of_each_ads[ad]+reward#here based on the index given by ad total no. of reward in each ads is added\n",
        "    total_reward_ofads=total_reward_ofads+reward#this will add all the final numbers in the list\n",
        "\n",
        "\n",
        "\n"
      ],
      "metadata": {
        "id": "LvrH1glHTQfC"
      },
      "execution_count": null,
      "outputs": []
    },
    {
      "cell_type": "markdown",
      "metadata": {
        "id": "AXftWcjDwsYj"
      },
      "source": [
        "## Visualising the results"
      ]
    },
    {
      "cell_type": "code",
      "source": [
        "plt.hist(ads_selected)\n",
        "plt.title(\"histogram of ads(upper confidence bound)\")\n",
        "plt.xlabel(\"ads\")\n",
        "plt.ylabel(\"number of times ads was selected\")\n",
        "plt.show()"
      ],
      "metadata": {
        "colab": {
          "base_uri": "https://localhost:8080/",
          "height": 472
        },
        "id": "uJHQmoN6wZ7K",
        "outputId": "90a7eb5a-6351-40e7-c2c2-00d6ac0d3902"
      },
      "execution_count": null,
      "outputs": [
        {
          "output_type": "display_data",
          "data": {
            "text/plain": [
              "<Figure size 640x480 with 1 Axes>"
            ],
            "image/png": "[encoded data removed]"
          },
          "metadata": {}
        }
      ]
    },
    {
      "cell_type": "markdown",
      "source": [
        "ads no:4 is the best advertisement\n"
      ],
      "metadata": {
        "id": "Ds29j_5XyHRr"
      }
    }
  ]
}